{
 "cells": [
  {
   "cell_type": "code",
   "execution_count": null,
   "metadata": {},
   "outputs": [],
   "source": [
    "from youtube_dl import YoutubeDL\n",
    "import moviepy.editor as mp\n",
    "from pytube import YouTube\n",
    "import json\n",
    "import os\n",
    "import time"
   ]
  },
  {
   "cell_type": "code",
   "execution_count": null,
   "metadata": {},
   "outputs": [],
   "source": [
    "ydl_opts = {\n",
    "    'ignoreerrors': True\n",
    "}\n",
    "\n",
    "ydl = YoutubeDL(ydl_opts)\n",
    "\n",
    "output = ydl.extract_info(\"https://www.youtube.com/playlist?list=PLS_efttVcK00R7k9Thh0SJnuQTOBcPOrz\",download=False)"
   ]
  },
  {
   "cell_type": "code",
   "execution_count": null,
   "metadata": {},
   "outputs": [],
   "source": [
    "for i,a in enumerate(output.get(\"entries\")):\n",
    "    print(i,a.get(\"webpage_url\"))\n",
    "\n",
    "    yt = YouTube(a.get(\"webpage_url\"))\n",
    "    video = yt.streams.filter().first()\n",
    "    out_file = video.download(output_path=\"./downloads\")\n",
    "    base, ext = os.path.splitext(out_file)\n",
    "\n",
    "    clip = mp.VideoFileClip(out_file)\n",
    "    \n",
    "    clip.audio.write_audiofile(os.path.join(\"./downloads/converted\",out_file.split(\"./downloads\\\\\",1)[1][0:-5]+\".mp3\"), bitrate=\"128k\")\n",
    "    \n",
    "    clip.close()"
   ]
  },
  {
   "cell_type": "code",
   "execution_count": null,
   "metadata": {},
   "outputs": [],
   "source": [
    "os.remove(os.path.join(\"./downloads/\",out_file.split(\"./downloads\\\\\",1)[1][0:-5]+\".3gpp\"))"
   ]
  }
 ],
 "metadata": {
  "interpreter": {
   "hash": "be23ae5e9cab8f7d3dc053734d7c1a72c76df2b3e32c536f0ca96d686b8189c9"
  },
  "kernelspec": {
   "display_name": "Python 3.10.4 64-bit",
   "language": "python",
   "name": "python3"
  },
  "language_info": {
   "codemirror_mode": {
    "name": "ipython",
    "version": 3
   },
   "file_extension": ".py",
   "mimetype": "text/x-python",
   "name": "python",
   "nbconvert_exporter": "python",
   "pygments_lexer": "ipython3",
   "version": "3.10.4"
  },
  "orig_nbformat": 4
 },
 "nbformat": 4,
 "nbformat_minor": 2
}
