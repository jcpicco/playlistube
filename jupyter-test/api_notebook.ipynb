{
 "cells": [
  {
   "cell_type": "code",
   "execution_count": 14,
   "metadata": {},
   "outputs": [],
   "source": [
    "from youtube_dl import YoutubeDL\n",
    "from pytube import YouTube\n",
    "import os\n",
    "import json"
   ]
  },
  {
   "cell_type": "code",
   "execution_count": 15,
   "metadata": {},
   "outputs": [
    {
     "name": "stdout",
     "output_type": "stream",
     "text": [
      "[youtube:tab] PLS_efttVcK00R7k9Thh0SJnuQTOBcPOrz: Downloading webpage\n",
      "[download] Downloading playlist: Música\n",
      "[youtube:tab] playlist Música: Downloading 2 videos\n",
      "[download] Downloading video 1 of 2\n",
      "[youtube] 3tpr230Aeow: Downloading webpage\n",
      "[download] Downloading video 2 of 2\n",
      "[youtube] Lojjfow4DzE: Downloading webpage\n",
      "[download] Finished downloading playlist: Música\n"
     ]
    }
   ],
   "source": [
    "ydl_opts = {\n",
    "    'ignoreerrors': True\n",
    "}\n",
    "\n",
    "ydl = YoutubeDL(ydl_opts)\n",
    "\n",
    "output = ydl.extract_info(\"https://www.youtube.com/playlist?list=PLS_efttVcK00R7k9Thh0SJnuQTOBcPOrz\",download=False)"
   ]
  },
  {
   "cell_type": "code",
   "execution_count": 17,
   "metadata": {},
   "outputs": [],
   "source": [
    "for a in output.get(\"entries\"):\n",
    "    yt = YouTube(a.get(\"webpage_url\"))\n",
    "    video = yt.streams.filter(only_audio=True).first()\n",
    "    out_file = video.download(output_path=\"./downloads\")\n",
    "    base, ext = os.path.splitext(out_file)\n",
    "    new_file = base + '.mp3'\n",
    "    os.rename(out_file, new_file)"
   ]
  }
 ],
 "metadata": {
  "interpreter": {
   "hash": "be23ae5e9cab8f7d3dc053734d7c1a72c76df2b3e32c536f0ca96d686b8189c9"
  },
  "kernelspec": {
   "display_name": "Python 3.10.4 64-bit",
   "language": "python",
   "name": "python3"
  },
  "language_info": {
   "codemirror_mode": {
    "name": "ipython",
    "version": 3
   },
   "file_extension": ".py",
   "mimetype": "text/x-python",
   "name": "python",
   "nbconvert_exporter": "python",
   "pygments_lexer": "ipython3",
   "version": "3.10.4"
  },
  "orig_nbformat": 4
 },
 "nbformat": 4,
 "nbformat_minor": 2
}
